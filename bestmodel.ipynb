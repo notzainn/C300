{
 "cells": [
  {
   "cell_type": "code",
   "execution_count": 1,
   "metadata": {},
   "outputs": [],
   "source": [
    "import pandas as pd\n",
    "import pickle as pkl\n",
    "from imblearn.over_sampling import RandomOverSampler\n",
    "from sklearn.model_selection import train_test_split"
   ]
  },
  {
   "cell_type": "code",
   "execution_count": 2,
   "metadata": {},
   "outputs": [
    {
     "ename": "ModuleNotFoundError",
     "evalue": "No module named 'pycaret'",
     "output_type": "error",
     "traceback": [
      "\u001b[1;31m---------------------------------------------------------------------------\u001b[0m",
      "\u001b[1;31mModuleNotFoundError\u001b[0m                       Traceback (most recent call last)",
      "Cell \u001b[1;32mIn[2], line 25\u001b[0m\n\u001b[0;32m     21\u001b[0m ratings_resampled[\u001b[38;5;124m'\u001b[39m\u001b[38;5;124mRisk Rating\u001b[39m\u001b[38;5;124m'\u001b[39m] \u001b[38;5;241m=\u001b[39m ratings_resampled[\u001b[38;5;124m'\u001b[39m\u001b[38;5;124mRisk Rating\u001b[39m\u001b[38;5;124m'\u001b[39m]\u001b[38;5;241m.\u001b[39mmap(custom_mapping)\n\u001b[0;32m     22\u001b[0m \u001b[38;5;66;03m#print(ratings_resampled)\u001b[39;00m\n\u001b[0;32m     23\u001b[0m \n\u001b[0;32m     24\u001b[0m \u001b[38;5;66;03m# Import the ClassificationExperiment\u001b[39;00m\n\u001b[1;32m---> 25\u001b[0m \u001b[38;5;28;01mfrom\u001b[39;00m \u001b[38;5;21;01mpycaret\u001b[39;00m\u001b[38;5;21;01m.\u001b[39;00m\u001b[38;5;21;01mclassification\u001b[39;00m \u001b[38;5;28;01mimport\u001b[39;00m ClassificationExperiment\n\u001b[0;32m     27\u001b[0m \u001b[38;5;66;03m# Create an experiment instance\u001b[39;00m\n\u001b[0;32m     28\u001b[0m exp \u001b[38;5;241m=\u001b[39m ClassificationExperiment()\n",
      "\u001b[1;31mModuleNotFoundError\u001b[0m: No module named 'pycaret'"
     ]
    }
   ],
   "source": [
    "ratings = pd.read_csv(\"Cleansed Set B Corporate Rating.csv\")\n",
    "\n",
    "df = pd.DataFrame(ratings)\n",
    "\n",
    "x = ratings.drop(columns=['Risk Rating', 'Bond Rating'])\n",
    "y = ratings['Risk Rating']\n",
    "\n",
    "custom_mapping = {\n",
    "    'In Default': 5,\n",
    "    'Highest Risk': 4,\n",
    "    'High Risk': 3,\n",
    "    'Medium Risk': 2,\n",
    "    'Low Risk': 1,\n",
    "    'Lowest Risk': 0\n",
    "}\n",
    "\n",
    "ros = RandomOverSampler()\n",
    "\n",
    "x_resampled, y_resampled = ros.fit_resample(x, y)\n",
    "ratings_resampled = pd.concat([pd.DataFrame(x_resampled), pd.DataFrame(y_resampled, columns=['Risk Rating'])], axis=1)\n",
    "ratings_resampled['Risk Rating'] = ratings_resampled['Risk Rating'].map(custom_mapping)\n",
    "#print(ratings_resampled)\n",
    "\n",
    "# Import the ClassificationExperiment\n",
    "from pycaret.classification import ClassificationExperiment\n",
    "\n",
    "# Create an experiment instance\n",
    "exp = ClassificationExperiment()\n",
    "\n",
    "# Initialize the experiment\n",
    "exp.setup(ratings_resampled, target='Risk Rating', session_id=123)\n",
    "\n",
    "# Compare models\n",
    "best_model = exp.compare_models()\n",
    "XGBoost_model = exp.create_model('xgboost')\n",
    "# View results\n",
    "print(best_model)\n"
   ]
  },
  {
   "cell_type": "code",
   "execution_count": 4,
   "metadata": {},
   "outputs": [],
   "source": [
    "# to export data to pickle file\n",
    "#ratings_resampled.to_pickle('df.pkl')"
   ]
  }
 ],
 "metadata": {
  "kernelspec": {
   "display_name": "base",
   "language": "python",
   "name": "python3"
  },
  "language_info": {
   "codemirror_mode": {
    "name": "ipython",
    "version": 3
   },
   "file_extension": ".py",
   "mimetype": "text/x-python",
   "name": "python",
   "nbconvert_exporter": "python",
   "pygments_lexer": "ipython3",
   "version": "3.12.3"
  }
 },
 "nbformat": 4,
 "nbformat_minor": 2
}
